{
 "cells": [
  {
   "cell_type": "markdown",
   "metadata": {},
   "source": [
    "<center>\n",
    "    <img src=\"https://cf-courses-data.s3.us.cloud-object-storage.appdomain.cloud/IBMDeveloperSkillsNetwork-DS0105EN-SkillsNetwork/labs/Module2/images/SN_web_lightmode.png\" width=\"300\" alt=\"cognitiveclass.ai logo\">\n",
    "</center>\n"
   ]
  },
  {
   "cell_type": "markdown",
   "metadata": {},
   "source": [
    "#### Add your code below following the instructions given in the course\n"
   ]
  },
  {
   "cell_type": "markdown",
   "metadata": {},
   "source": [
    "# Peer-graded Assignment"
   ]
  },
  {
   "cell_type": "markdown",
   "metadata": {},
   "source": [
    "#### This is an introduction for the Peer-grade Assignment."
   ]
  },
  {
   "cell_type": "markdown",
   "metadata": {},
   "source": [
    "#### Among data science languages we can find: \n",
    "- Python\n",
    "- R\n",
    "- SQL\n",
    "- Java\n",
    "- Julia\n",
    "- Scala\n",
    "- C/C++\n",
    "- JavaScript\n",
    "- Swift\n",
    "- Go\n",
    "- MATLAB\n",
    "- SAS"
   ]
  },
  {
   "cell_type": "markdown",
   "metadata": {},
   "source": [
    "#### There are many libraries for data science. Some examples are:\n",
    "\n",
    "- Numpy\n",
    "- Pandas\n",
    "- Matplotlib\n",
    "- Seaborn\n",
    "- Plotly\n",
    "- Scikit-Learn\n",
    "- TensorFlow\n",
    "- Keras\n",
    "- SciPy\n",
    "- Pytorch\n",
    "- Scipy"
   ]
  },
  {
   "cell_type": "markdown",
   "metadata": {},
   "source": [
    "#### There are lots of data science tools. You can find some of them below:\n",
    "\n",
    "|  Tools  | kind  |\n",
    "|:--------: | :----------:|\n",
    "|  R  |  Language  |\n",
    "|  SQL  | Language  |\n",
    "|  Python  |  Language  |\n",
    "|  Julia  |  Language  |\n",
    "|  Excel  |  SpreadSheet P  |\n",
    "|  Spark  |  Framework  |\n",
    "|  Tableau  |  Data Visualization  |\n",
    "| Jupyter Notebook / Jupiter Lab  | IDE  |\n",
    "|  IBM Watson Studio  | IDE  |\n"
   ]
  },
  {
   "cell_type": "markdown",
   "metadata": {},
   "source": [
    "#### Here you can find some arithmetic expression examples:\n",
    "$$ 2 + 2 = 4 $$\n",
    "$$ 6 - 3 = 3 $$\n",
    "$$ 3 * 5 = 15 $$\n",
    "$$ 4 / 2 = 2 $$\n"
   ]
  },
  {
   "cell_type": "markdown",
   "metadata": {},
   "source": [
    "#### Code cell in which we add and multiply:"
   ]
  },
  {
   "cell_type": "code",
   "execution_count": 1,
   "metadata": {},
   "outputs": [
    {
     "name": "stdout",
     "output_type": "stream",
     "text": [
      "56\n"
     ]
    }
   ],
   "source": [
    "x = 2\n",
    "y = 5\n",
    "z = 8\n",
    "print((x + y)* z)"
   ]
  },
  {
   "cell_type": "markdown",
   "metadata": {},
   "source": [
    "#### Code cell to convert minutes to hours:"
   ]
  },
  {
   "cell_type": "code",
   "execution_count": 2,
   "metadata": {},
   "outputs": [
    {
     "name": "stdout",
     "output_type": "stream",
     "text": [
      "150 minutes is equal to 2.5 hours.\n"
     ]
    }
   ],
   "source": [
    "def minutes_to_hours(minutes):\n",
    "    hours = minutes / 60\n",
    "    return hours\n",
    "\n",
    "# Example usage\n",
    "minutes = 150\n",
    "hours = minutes_to_hours(minutes)\n",
    "print(f\"{minutes} minutes is equal to {hours} hours.\")"
   ]
  },
  {
   "cell_type": "markdown",
   "metadata": {},
   "source": [
    "#### Objective list for this assignment\n",
    "\n",
    "\n",
    "\n",
    "- Goal of Exercise 2 - Create a markdown cell with the title of the notebook. (1 pt)\n",
    "\n",
    "- Goal of Exercise 3 - Create a markdown cell for an introduction. (1 pt)\n",
    "\n",
    "- Goal of Exercise 4 - Create a markdown cell to list data science languages. (3 pts)\n",
    "\n",
    "- Goal of Exercise 5 - Create a markdown cell to list data science libraries. (3 pts)\n",
    "\n",
    "- Goal of Exercise 6 - Create a markdown cell with a table of Data Science tools. (3 pts)\n",
    "\n",
    "- Goal of Exercise 7 - Create a markdown cell introducing arithmetic expression examples. (1 pt)\n",
    "\n",
    "- Goal of Exercise 8 - Create a code cell to multiply and add numbers. (2 pts)\n",
    "\n",
    "- Goal of Exercise 9 - Create a code cell to convert minutes to hours. (2 pts)\n",
    "\n",
    "- Goal of Exercise 10 -Insert a markdown cell to list Objectives. (3 pts)"
   ]
  },
  {
   "cell_type": "markdown",
   "metadata": {},
   "source": [
    "#### Author: Andrea Moreno Ch"
   ]
  }
 ],
 "metadata": {
  "kernelspec": {
   "display_name": "Python 3 (ipykernel)",
   "language": "python",
   "name": "python3"
  },
  "language_info": {
   "codemirror_mode": {
    "name": "ipython",
    "version": 3
   },
   "file_extension": ".py",
   "mimetype": "text/x-python",
   "name": "python",
   "nbconvert_exporter": "python",
   "pygments_lexer": "ipython3",
   "version": "3.12.8"
  }
 },
 "nbformat": 4,
 "nbformat_minor": 4
}
